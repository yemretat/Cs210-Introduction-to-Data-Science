{
  "nbformat": 4,
  "nbformat_minor": 0,
  "metadata": {
    "colab": {
      "name": "Tat_YunusEmre_th6.ipynb",
      "provenance": [],
      "collapsed_sections": [],
      "toc_visible": true
    },
    "kernelspec": {
      "name": "python3",
      "display_name": "Python 3"
    }
  },
  "cells": [
    {
      "cell_type": "markdown",
      "metadata": {
        "id": "gzA5v_dYmrKa",
        "colab_type": "text"
      },
      "source": [
        "# Take-Home Exam 6: General Review\n",
        "\n",
        "*In this take-home exam, you are going to solve questions regarding machine learning concepts.*\n",
        "\n",
        "**Submission Instructions**\n",
        "\n",
        "---\n",
        "Copy this assignment to your Drive. <font color = 'red'> `File` --> `Save a copy in Drive`</font>. Rename it as <font color = 'green'>`Lastname_Firstname_th6`</font>.\n",
        "\n",
        "Write your solutions in the cells  marked <font color = 'green'>`# your code`</font>.\n",
        "\n",
        "When you're done please submit your solutions as an <font color=\"red\">`.ipynb`</font> file. To do so:\n",
        "\n",
        "\n",
        "1.  Click on <font color=\"red\">`File`</font>  at the top left on the Colab screen, then click on <font color = 'red'>`Download .ipynb`</font>.\n",
        "2.   Then submit the <font color=\"red\">`.ipynb`</font> version of your work on SUCourse.\n",
        "\n",
        "\n",
        "For any question, you may send an email to the TAs and LAs.\n",
        "\n",
        "---"
      ]
    },
    {
      "cell_type": "markdown",
      "metadata": {
        "id": "3PPXszHTQ306",
        "colab_type": "text"
      },
      "source": [
        "**IMPORTANT**\n",
        "\n",
        "In order to complete the true/false and multi-choice questions, please use markdown utilities. For instance, below you have a set of options \n",
        "\n",
        "- [ ] option A\n",
        "- [x] option B\n",
        "- [ ] option C\n",
        "\n",
        "If you **double click** on this cell, you will see that a ticked option is represented with \\[x\\] statement. Please utilize the same selection mechanism in the questions below."
      ]
    },
    {
      "cell_type": "markdown",
      "metadata": {
        "id": "HkpA2ho_LNxB",
        "colab_type": "text"
      },
      "source": [
        "## ML Concepts"
      ]
    },
    {
      "cell_type": "markdown",
      "metadata": {
        "id": "KFXTYe2DL7KI",
        "colab_type": "text"
      },
      "source": [
        "### Q1\n",
        "\n",
        "What is the difference between classification and regression? Assume that you are performing price prediction. Which is the appropriate method? Explain your reasoning.\n",
        "\n",
        "<font color=\"blue\">Classification models used to predict categorical output variables.However,Regression models used to predict continous output variable.\n",
        "In performing price prediction,I want to give an example from my project about Airbnb,I categorized my price data as 0 to 5.0.0 category respresented the 0 to 200 US dolar price interval 1 represented 200-400$ price interval.It goes orderly like this.So output was converted to price to category.It requires using classification models.My model gave me the which category my price relevant.But if I want to predict exact prices(quantity) from Airbnb data,I would use the regression model.Because exact prices are continious data.\n",
        "I think we cannot say exactly it is the appropraite method it can be changes for different types of problems.In my opinion,when we predict the prices,Regression can be better because classification only represents the category of our prices but regression would give quantity of price.We can interpret quantity in more detail.But classification have more usage in ML.As simply,When we detect a mail is spam or not,in classification of images with computer vision we use the classification.\n",
        "</font>\n",
        "\n"
      ]
    },
    {
      "cell_type": "markdown",
      "metadata": {
        "id": "j4etmk03T6Z1",
        "colab_type": "text"
      },
      "source": [
        "### Q2\n",
        "\n",
        "What is overfitting? Explain in terms of its relationship with model complexity and its implications.\n",
        "\n",
        "<font color=\"blue\">When model learns our training data so well, it will fail to predict unseen data.It is called overfitting.Model would be biased by data.Increasing of the model complexity,model will adapt to data very well however,it will fail to learn general relationship in the data.So that,predicting unseen data will not be high performance,more likely overfitting."
      ]
    },
    {
      "cell_type": "markdown",
      "metadata": {
        "id": "f6kMHqNwHRiu",
        "colab_type": "text"
      },
      "source": [
        "### Q3\n",
        "\n",
        "Why do we need cross-validation? \n",
        "\n",
        "<font color=\"blue\">A dataset cannot be uniformly seperated.Some parts of them doesnt reflects the general features of the dataset(biased parts).When cross validation it try to split our dataset k times and in every k time our traning data changes means every part of the data will be used to train our model.So that we can estimate our accuracy result as more accurate.So that overfitting problem would be prevented. </font>"
      ]
    },
    {
      "cell_type": "markdown",
      "metadata": {
        "id": "MQayVyetNhxq",
        "colab_type": "text"
      },
      "source": [
        "### Q1\n",
        "\n",
        "A kNN model with k set to 1 would obtain 100% accuracy result on the train data.\n",
        "\n",
        "- [x] True\n",
        "- [ ] False"
      ]
    },
    {
      "cell_type": "markdown",
      "metadata": {
        "id": "RX8an6jJOlZJ",
        "colab_type": "text"
      },
      "source": [
        "### Q2\n",
        "\n",
        "Given a training dataset with 100 observations, we built a kNN model with k set to 100. In the training data, 30% of the observations are of class `A`, 10% are of class `B` and the remaining 60% are of class `C`. \n",
        "\n",
        "Now, we have a test dataset in which 5% are of class `A`, 55% are of class `B` and remaining 40% are of class `C`. If we deploy the trained model to predict the test dataset, what would be the resulting accuracy score?\n",
        "\n",
        "- [ ] 50%\n",
        "- [x] 40%\n",
        "- [ ] 55%"
      ]
    },
    {
      "cell_type": "markdown",
      "metadata": {
        "id": "YsTpi3s9AHqR",
        "colab_type": "text"
      },
      "source": [
        "## Decision Trees"
      ]
    },
    {
      "cell_type": "markdown",
      "metadata": {
        "id": "jBcChfpoVuhj",
        "colab_type": "text"
      },
      "source": [
        "### Q1\n",
        "\n",
        "Suppose we have the training data below, where A, B and C are binary attributes and y is the target attribute.\n",
        "\n",
        "|A|B|C|y|\n",
        "|:---:|:---:|:---:|:---:|\n",
        "|0|1|0|yes|\n",
        "|1|0|1|yes|\n",
        "|0|0|0|no|\n",
        "|1|0|1|no|\n",
        "|0|1|1|no|\n",
        "|1|1|0|yes|\n",
        "\n",
        "Assume we have a decision tree model trained with this model. Is it possible for this model to obtain 100% accuracy score on the training data? Explain your reasoning.\n",
        "\n",
        "<font color=\"blue\">Absolutely No,because we cannot create a splitting criteria which gives use exactly target well.If we can predict target value certainly using the A B C features,model can obtain 100% accuracy score.In more detail,for example If there is a rule: If A or C even,B is odd it means y is yes.But we dont have such rule from the this training data.So that it is not possible</font>"
      ]
    },
    {
      "cell_type": "markdown",
      "metadata": {
        "id": "_VhPe7Iwczb8",
        "colab_type": "text"
      },
      "source": [
        "### Q2\n",
        "\n",
        "Suppose we have the training data below, where A, B and C are binary attributes and y is the target attribute.\n",
        "\n",
        "|A|B|C|y|\n",
        "|:---:|:---:|:---:|:---:|\n",
        "|0|1|0|yes|\n",
        "|1|0|1|yes|\n",
        "|0|0|0|no|\n",
        "|1|0|1|no|\n",
        "|0|1|1|no|\n",
        "|1|1|0|yes|\n",
        "|0|1|1|yes|\n",
        "\n",
        "Which attribute above would yield the highest information gain for the root node in the decision tree?\n",
        "\n",
        "- [ ] A\n",
        "- [x] B\n",
        "- [ ] C"
      ]
    },
    {
      "cell_type": "markdown",
      "metadata": {
        "id": "qrUqwwp1Qn6u",
        "colab_type": "text"
      },
      "source": [
        "### Q3\n",
        "\n",
        "A decision tree algorithm iteratively evaluates available features in the data to create the branches. What would be the effect of adding a new feature to the dataset on the predictive performance of a model?\n",
        "\n",
        "- [ ] Increases the performance\n",
        "- [ ] Decreases the performance\n",
        "- [x] There is no enough information"
      ]
    },
    {
      "cell_type": "markdown",
      "metadata": {
        "id": "2GVphvifLSGq",
        "colab_type": "text"
      },
      "source": [
        "## Naive Bayes"
      ]
    },
    {
      "cell_type": "markdown",
      "metadata": {
        "id": "y6oUnpswLToT",
        "colab_type": "text"
      },
      "source": [
        "### Q1\n",
        "\n",
        "Why is Naive Bayes algorithm considered as `naive`? Explain briefly and discuss its implications in terms of its effect on the computation.\n",
        "\n",
        "<font color=\"blue\">Naive Bayes is naive because features are considered independent from each other.Independecy is almost never true between features.This assumption help the classificiation problems and ease the computation.</font>"
      ]
    },
    {
      "cell_type": "markdown",
      "metadata": {
        "id": "PyloVcBXW9o4",
        "colab_type": "text"
      },
      "source": [
        "### Q2\n",
        "\n",
        "Suppose that we have the data below, where `Stolen` is the  target attribute that consists of binary values (yes or no).\n",
        "\n",
        "|Color|Type|Origin|Stolen|\n",
        "|:---:|:---:|:---:|:---:|\n",
        "|red|sports|domestic|yes|\n",
        "|red|sports|domestic|no|\n",
        "|red|sports|domestic|yes|\n",
        "|yellow|sports|domestic|no|\n",
        "|yellow|sports|imported|yes|\n",
        "|yellow|suv|imported|no|\n",
        "|yellow|suv|imported|yes|\n",
        "|yellow|suv|domestic|no|\n",
        "|red|suv|imported|no|\n",
        "|red|sports|imported|yes|\n",
        "\n",
        "You have a naive bayes model and a new test instance with attributes `color=red`, `type=suv` and `origin=imported`. What would be the predicted label by the naive bayes model for the given test instance? *Write down your calculations step by step.*\n",
        "\n",
        "There is no need to use latex in this question. You may show your calculations as P(stolen=yes|color=red....) = (...)/(...) etc.\n",
        "\n",
        "<font color=\"blue\">\n",
        "\n",
        "-P(stolen=yes|x) = P(color = red/stolen=yes) x P(type = suv/stolen=yes) x P(origin= imported/stolen=yes) x P(stolen= yes)\n",
        "\n",
        "- P(stolen=no|x) = P(color = red/stolen=no) x P(type = suv/stolen=no) x P(origin= imported/stolen=no) x P(stolen= no)\n",
        "\n",
        "- P(color = red/stolen=yes) = 3/5\n",
        "\n",
        "- P(type = suv/stolen=yes) = 1/5\n",
        "\n",
        "- P(origin= imported/stolen=yes) = 3/5\n",
        "\n",
        "- P(stolen= yes)= 5/10\n",
        "\n",
        "- P(color = red/stolen=no) = 2/5\n",
        "\n",
        "- P(type = suv/stolen=no) = 3/5\n",
        "\n",
        "- P(origin= imported/stolen=no) = 2/5\n",
        "\n",
        "- P(stolen= no) = 5/10\n",
        "\n",
        "- P(stolen= yes|x) = 3/5 x 1/5 x 3/5 x 5/10 = 0.036\n",
        "\n",
        "- P(stolen= no|x) = 2/5 x 3/5 x 2/5 x 5/10 = 0.048\n",
        "\n",
        "- 0.036/0.036+0.048 = 0.42857143\n",
        "\n",
        "- 0.048/0.036+0.048 = 0.57142857\n",
        "\n",
        "- Predicted label would be No by the naive bayes model for the given test instance.</font>"
      ]
    }
  ]
}